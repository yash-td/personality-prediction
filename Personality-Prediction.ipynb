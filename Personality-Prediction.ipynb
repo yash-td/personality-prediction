{
 "cells": [
  {
   "cell_type": "markdown",
   "id": "8843aa3a",
   "metadata": {},
   "source": [
    "# Predicting personality and morality \n",
    "\n",
    "                               Yash Tusharbhai Desai"
   ]
  },
  {
   "cell_type": "markdown",
   "id": "942398f1",
   "metadata": {},
   "source": [
    "## Importing required packages and libraries"
   ]
  },
  {
   "cell_type": "code",
   "execution_count": 1,
   "id": "e30a3737",
   "metadata": {},
   "outputs": [],
   "source": [
    "import pandas as pd\n",
    "import numpy as np\n",
    "import xgboost\n",
    "from sklearn import metrics\n",
    "from xgboost import XGBRegressor \n",
    "from sklearn.linear_model import LinearRegression\n",
    "from sklearn.model_selection import RepeatedKFold\n",
    "from sklearn.ensemble import RandomForestRegressor\n",
    "from sklearn.model_selection import train_test_split\n",
    "from sklearn.model_selection import cross_val_score\n"
   ]
  },
  {
   "cell_type": "markdown",
   "id": "0e9484a2",
   "metadata": {},
   "source": [
    "# Loading Datasets"
   ]
  },
  {
   "cell_type": "markdown",
   "id": "725d5502",
   "metadata": {},
   "source": [
    "## Loading Features"
   ]
  },
  {
   "cell_type": "code",
   "execution_count": 2,
   "id": "d4109c61",
   "metadata": {},
   "outputs": [],
   "source": [
    "features_np = np.load('./all_features.npy',allow_pickle=True)"
   ]
  },
  {
   "cell_type": "markdown",
   "id": "3e081a5d",
   "metadata": {},
   "source": [
    "### Merging all the 229 feature values into a single array"
   ]
  },
  {
   "cell_type": "code",
   "execution_count": 3,
   "id": "e8b35b5d",
   "metadata": {},
   "outputs": [
    {
     "name": "stdout",
     "output_type": "stream",
     "text": [
      "The shape of our feature array is: - (11180, 229)\n"
     ]
    },
    {
     "data": {
      "text/plain": [
       "array([ 1.29199219e+02,  1.00000000e+00,  7.41237998e-01,  4.72716004e-01,\n",
       "        4.01114434e-01,  3.96107048e-01,  4.32125270e-01,  5.12008190e-01,\n",
       "        5.48045576e-01,  4.96326447e-01,  4.48788851e-01,  4.30853158e-01,\n",
       "        4.47439492e-01,  4.91128862e-01,  4.94462460e-01,  4.29428935e-01,\n",
       "        3.61250460e-01,  3.38929445e-01,  3.62722397e-01,  4.41248506e-01,\n",
       "        5.38648367e-01,  5.34732640e-01,  4.23297167e-01,  3.24935228e-01,\n",
       "        2.89269835e-01,  2.83819914e-01,  3.09512287e-01,  3.36682856e-01,\n",
       "        3.24578524e-01,  2.76548982e-01,  2.45640635e-01,  2.44614661e-01,\n",
       "        2.66858786e-01,  2.75683612e-01,  2.34920904e-01,  1.87942147e-01,\n",
       "        1.64719462e-01,  1.60023630e-01,  1.80145219e-01,  2.23499790e-01,\n",
       "        2.39709392e-01,  2.01214164e-01,  1.45149335e-01,  1.12376437e-01,\n",
       "        1.01751119e-01,  1.03743002e-01,  1.10554419e-01,  1.08710438e-01,\n",
       "        9.30104777e-02,  8.05889890e-02,  7.25800544e-02,  7.05595836e-02,\n",
       "        7.11078346e-02,  6.45475164e-02,  5.27536944e-02,  4.25770767e-02,\n",
       "        3.65021899e-02,  3.58438045e-02,  4.10276428e-02,  4.46736030e-02,\n",
       "        3.88266630e-02,  2.83636265e-02,  2.05564089e-02,  1.63657796e-02,\n",
       "        1.47719989e-02,  1.45285986e-02,  1.36555145e-02,  1.15114478e-02,\n",
       "        9.22927633e-03,  7.35403690e-03,  6.29025977e-03,  5.74968290e-03,\n",
       "        5.07087307e-03,  3.90307163e-03,  2.75888410e-03,  2.06550374e-03,\n",
       "        1.71077217e-03,  1.62275764e-03,  1.60697184e-03,  1.35988439e-03,\n",
       "        8.90775991e-04,  5.35520143e-04,  3.43104766e-04,  2.37829227e-04,\n",
       "        1.77189111e-04,  1.34460395e-04,  9.18265505e-05,  5.37768719e-05,\n",
       "        2.91095166e-05,  1.58075291e-05,  8.72711280e-06,  4.39490805e-06,\n",
       "        1.74941306e-06,  5.21429513e-07,  1.11645761e-07,  1.36207925e-08,\n",
       "        6.94399016e-18,  0.00000000e+00,  5.88414371e-02,  1.11937240e-01,\n",
       "        1.34837449e-01,  1.44620940e-01,  1.39593646e-01,  1.32053539e-01,\n",
       "        1.19600043e-01,  1.12962939e-01,  1.29892960e-01,  1.28327921e-01,\n",
       "        1.09058753e-01,  1.03428759e-01,  1.11789420e-01,  1.25867024e-01,\n",
       "        1.25381157e-01,  1.15504749e-01,  1.07807741e-01,  9.83042046e-02,\n",
       "        9.57664028e-02,  8.44855532e-02,  7.73197860e-02,  9.98500288e-02,\n",
       "        1.05311848e-01,  9.67127085e-02,  1.01922870e-01,  9.76901501e-02,\n",
       "        8.30366686e-02,  7.59479105e-02,  7.27537274e-02,  7.22736642e-02,\n",
       "        7.39003122e-02,  7.26792961e-02,  6.50194362e-02,  6.23615347e-02,\n",
       "        6.23645335e-02,  6.10901192e-02,  6.00131303e-02,  6.58723935e-02,\n",
       "        6.05109110e-02,  5.83360195e-02,  4.83579114e-02,  4.27528881e-02,\n",
       "        4.08298112e-02,  4.13747653e-02,  4.52290550e-02,  3.96514125e-02,\n",
       "        3.23910192e-02,  3.19423452e-02,  2.93574221e-02,  2.49047857e-02,\n",
       "        2.47234665e-02,  2.35685594e-02,  2.14842632e-02,  2.00551916e-02,\n",
       "        1.78909898e-02,  1.83506031e-02,  2.28067786e-02,  2.31266133e-02,\n",
       "        1.69073492e-02,  1.23397680e-02,  9.51568969e-03,  8.26838240e-03,\n",
       "        7.70389289e-03,  7.85619114e-03,  7.21599115e-03,  5.88782458e-03,\n",
       "        4.87401383e-03,  3.89354373e-03,  3.42448335e-03,  3.47438804e-03,\n",
       "        3.17505910e-03,  2.19237339e-03,  1.39400875e-03,  1.15309027e-03,\n",
       "        9.96599905e-04,  1.08456204e-03,  1.28619769e-03,  1.12426362e-03,\n",
       "        6.37762656e-04,  3.42380750e-04,  2.25447162e-04,  1.59181378e-04,\n",
       "        1.27311621e-04,  1.14800590e-04,  8.50607321e-05,  4.81608040e-05,\n",
       "        2.40509908e-05,  1.27866742e-05,  8.27040822e-06,  4.97904784e-06,\n",
       "        2.15182240e-06,  6.31369574e-07,  1.38747538e-07,  2.05106279e-08,\n",
       "        8.29426706e-17,  6.21377289e-01,  5.32887220e-01,  7.33772278e-01,\n",
       "        5.39741158e-01,  6.87346399e-01,  6.40876651e-01,  4.93016243e-01,\n",
       "        5.32904387e-01,  4.92795050e-01,  6.18268967e-01,  4.34531778e-01,\n",
       "        4.93432105e-01,  2.27550983e-01,  1.68682158e-01,  2.52943873e-01,\n",
       "        1.40569404e-01,  2.15311229e-01,  2.38069311e-01,  1.80158436e-01,\n",
       "        2.36881971e-01,  1.89674735e-01,  2.54366845e-01,  1.57365009e-01,\n",
       "        1.76775947e-01,  1.26023829e-01,  2.15967327e-01, -1.66404679e-01,\n",
       "        3.49985808e-02, -5.80357984e-02,  5.32653928e-03,  1.69056684e-01,\n",
       "        1.33198306e-01,  1.96364701e-01,  2.31067047e-01,  9.93678048e-02,\n",
       "        6.91614449e-02], dtype=float32)"
      ]
     },
     "execution_count": 3,
     "metadata": {},
     "output_type": "execute_result"
    }
   ],
   "source": [
    "one_array = []\n",
    "track_ids = []\n",
    "for i in range(len(features_np)):\n",
    "    one_feature = np.concatenate((features_np[i][3], features_np[i][1], features_np[i][2], features_np[i][4], features_np[i][5], features_np[i][6], features_np[i][7]))\n",
    "    one_array.append(one_feature)\n",
    "    track_ids.append(features_np[i][0])\n",
    "one_array = np.array(one_array).astype('float32')\n",
    "print('The shape of our feature array is: -',one_array.shape)\n",
    "one_array[0]"
   ]
  },
  {
   "cell_type": "markdown",
   "id": "cf083cf7",
   "metadata": {},
   "source": [
    "### Creating a DataFrame for our feature vector "
   ]
  },
  {
   "cell_type": "code",
   "execution_count": 4,
   "id": "2fcb3155",
   "metadata": {},
   "outputs": [
    {
     "data": {
      "text/html": [
       "<div>\n",
       "<style scoped>\n",
       "    .dataframe tbody tr th:only-of-type {\n",
       "        vertical-align: middle;\n",
       "    }\n",
       "\n",
       "    .dataframe tbody tr th {\n",
       "        vertical-align: top;\n",
       "    }\n",
       "\n",
       "    .dataframe thead th {\n",
       "        text-align: right;\n",
       "    }\n",
       "</style>\n",
       "<table border=\"1\" class=\"dataframe\">\n",
       "  <thead>\n",
       "    <tr style=\"text-align: right;\">\n",
       "      <th></th>\n",
       "      <th>track_id</th>\n",
       "      <th>feature_vector</th>\n",
       "    </tr>\n",
       "  </thead>\n",
       "  <tbody>\n",
       "    <tr>\n",
       "      <th>0</th>\n",
       "      <td>003iCjGOKi7p4eqjfLB4oe</td>\n",
       "      <td>[129.19922, 1.0, 0.741238, 0.472716, 0.4011144...</td>\n",
       "    </tr>\n",
       "    <tr>\n",
       "      <th>1</th>\n",
       "      <td>008amsyxwFSwzy1mGg1OUo</td>\n",
       "      <td>[135.99918, 1.0, 0.7883907, 0.6127495, 0.62591...</td>\n",
       "    </tr>\n",
       "    <tr>\n",
       "      <th>2</th>\n",
       "      <td>009V0srjrA7XxggtXWCUVj</td>\n",
       "      <td>[112.347145, 1.0, 0.85913557, 0.73470086, 0.71...</td>\n",
       "    </tr>\n",
       "    <tr>\n",
       "      <th>3</th>\n",
       "      <td>00C5llfInrmXgjBrT40L1J</td>\n",
       "      <td>[95.703125, 1.0, 0.78303474, 0.54539025, 0.472...</td>\n",
       "    </tr>\n",
       "    <tr>\n",
       "      <th>4</th>\n",
       "      <td>00InLesTnEYlgbiCRtQizL</td>\n",
       "      <td>[117.453835, 1.0, 0.866055, 0.80381376, 0.8214...</td>\n",
       "    </tr>\n",
       "    <tr>\n",
       "      <th>...</th>\n",
       "      <td>...</td>\n",
       "      <td>...</td>\n",
       "    </tr>\n",
       "    <tr>\n",
       "      <th>11175</th>\n",
       "      <td>7zrWPRYubwn8k8Id80LDCv</td>\n",
       "      <td>[92.28516, 1.0, 0.7989711, 0.59106886, 0.54705...</td>\n",
       "    </tr>\n",
       "    <tr>\n",
       "      <th>11176</th>\n",
       "      <td>7zrxGPR1UVK2iSK793vLPl</td>\n",
       "      <td>[161.49902, 1.0, 0.73596185, 0.47786754, 0.423...</td>\n",
       "    </tr>\n",
       "    <tr>\n",
       "      <th>11177</th>\n",
       "      <td>7zsiCG0hk9G7iQ5KnSPG7T</td>\n",
       "      <td>[129.19922, 1.0, 0.7602166, 0.5001286, 0.41274...</td>\n",
       "    </tr>\n",
       "    <tr>\n",
       "      <th>11178</th>\n",
       "      <td>7zv2ojb0PAuMalnaOJd0Qv</td>\n",
       "      <td>[117.453835, 1.0, 0.81133294, 0.67105514, 0.65...</td>\n",
       "    </tr>\n",
       "    <tr>\n",
       "      <th>11179</th>\n",
       "      <td>7zzbfi8fvHe6hm342GcNYl</td>\n",
       "      <td>[143.55469, 1.0, 0.7403585, 0.4627734, 0.36956...</td>\n",
       "    </tr>\n",
       "  </tbody>\n",
       "</table>\n",
       "<p>11180 rows × 2 columns</p>\n",
       "</div>"
      ],
      "text/plain": [
       "                     track_id  \\\n",
       "0      003iCjGOKi7p4eqjfLB4oe   \n",
       "1      008amsyxwFSwzy1mGg1OUo   \n",
       "2      009V0srjrA7XxggtXWCUVj   \n",
       "3      00C5llfInrmXgjBrT40L1J   \n",
       "4      00InLesTnEYlgbiCRtQizL   \n",
       "...                       ...   \n",
       "11175  7zrWPRYubwn8k8Id80LDCv   \n",
       "11176  7zrxGPR1UVK2iSK793vLPl   \n",
       "11177  7zsiCG0hk9G7iQ5KnSPG7T   \n",
       "11178  7zv2ojb0PAuMalnaOJd0Qv   \n",
       "11179  7zzbfi8fvHe6hm342GcNYl   \n",
       "\n",
       "                                          feature_vector  \n",
       "0      [129.19922, 1.0, 0.741238, 0.472716, 0.4011144...  \n",
       "1      [135.99918, 1.0, 0.7883907, 0.6127495, 0.62591...  \n",
       "2      [112.347145, 1.0, 0.85913557, 0.73470086, 0.71...  \n",
       "3      [95.703125, 1.0, 0.78303474, 0.54539025, 0.472...  \n",
       "4      [117.453835, 1.0, 0.866055, 0.80381376, 0.8214...  \n",
       "...                                                  ...  \n",
       "11175  [92.28516, 1.0, 0.7989711, 0.59106886, 0.54705...  \n",
       "11176  [161.49902, 1.0, 0.73596185, 0.47786754, 0.423...  \n",
       "11177  [129.19922, 1.0, 0.7602166, 0.5001286, 0.41274...  \n",
       "11178  [117.453835, 1.0, 0.81133294, 0.67105514, 0.65...  \n",
       "11179  [143.55469, 1.0, 0.7403585, 0.4627734, 0.36956...  \n",
       "\n",
       "[11180 rows x 2 columns]"
      ]
     },
     "execution_count": 4,
     "metadata": {},
     "output_type": "execute_result"
    }
   ],
   "source": [
    "track_df = pd.DataFrame({'track_id':track_ids})\n",
    "features_one = df = pd.DataFrame(((x,) for x in one_array), columns=['feature_vector'])\n",
    "feature_vector_df = pd.concat([track_df,features_one],axis=1)\n",
    "feature_vector_df"
   ]
  },
  {
   "cell_type": "markdown",
   "id": "f1000578",
   "metadata": {},
   "source": [
    "##  Loading labels and track data"
   ]
  },
  {
   "cell_type": "code",
   "execution_count": 5,
   "id": "147f2298",
   "metadata": {},
   "outputs": [],
   "source": [
    "big5_mft_tracks = pd.read_csv('./big5_mft_tracks.csv',index_col=False)\n",
    "personality_data = pd.read_csv('./filtered_big5.csv',index_col=False)\n",
    "morality_data = pd.read_csv('./filtered_mft.csv',index_col=False)"
   ]
  },
  {
   "cell_type": "markdown",
   "id": "9862d018",
   "metadata": {},
   "source": [
    "## Merging our data so that we have a DataFrame with all the artists that users (pollsters) like and top 5 tracks of those artists."
   ]
  },
  {
   "cell_type": "code",
   "execution_count": 6,
   "id": "5bfe5ed6",
   "metadata": {},
   "outputs": [
    {
     "data": {
      "text/html": [
       "<div>\n",
       "<style scoped>\n",
       "    .dataframe tbody tr th:only-of-type {\n",
       "        vertical-align: middle;\n",
       "    }\n",
       "\n",
       "    .dataframe tbody tr th {\n",
       "        vertical-align: top;\n",
       "    }\n",
       "\n",
       "    .dataframe thead th {\n",
       "        text-align: right;\n",
       "    }\n",
       "</style>\n",
       "<table border=\"1\" class=\"dataframe\">\n",
       "  <thead>\n",
       "    <tr style=\"text-align: right;\">\n",
       "      <th></th>\n",
       "      <th>artist_name</th>\n",
       "      <th>song_title</th>\n",
       "      <th>preview_url</th>\n",
       "      <th>track_id</th>\n",
       "      <th>artist_id</th>\n",
       "      <th>track_popularity</th>\n",
       "      <th>processed_artist_name</th>\n",
       "      <th>feature_vector</th>\n",
       "    </tr>\n",
       "  </thead>\n",
       "  <tbody>\n",
       "    <tr>\n",
       "      <th>0</th>\n",
       "      <td>12th Planet</td>\n",
       "      <td>Follow</td>\n",
       "      <td>https://p.scdn.co/mp3-preview/ef07dc598b117870...</td>\n",
       "      <td>1HJW2w61lh3XcsnfnOR9p4</td>\n",
       "      <td>3V1h3kAdiVDBiwlY2i6dJz</td>\n",
       "      <td>40.0</td>\n",
       "      <td>12th planet</td>\n",
       "      <td>[151.99908, 1.0, 0.7784917, 0.61665344, 0.6178...</td>\n",
       "    </tr>\n",
       "    <tr>\n",
       "      <th>1</th>\n",
       "      <td>12th Planet</td>\n",
       "      <td>Swamplex Terrestrial</td>\n",
       "      <td>https://p.scdn.co/mp3-preview/bfe1fffd48350137...</td>\n",
       "      <td>35Qf9mP6LoopjOVwgPAKoY</td>\n",
       "      <td>3V1h3kAdiVDBiwlY2i6dJz</td>\n",
       "      <td>26.0</td>\n",
       "      <td>12th planet</td>\n",
       "      <td>[151.99908, 1.0, 0.7149835, 0.51125443, 0.5474...</td>\n",
       "    </tr>\n",
       "    <tr>\n",
       "      <th>2</th>\n",
       "      <td>12th Planet</td>\n",
       "      <td>Supernova</td>\n",
       "      <td>https://p.scdn.co/mp3-preview/a492095a74937ed7...</td>\n",
       "      <td>5Yu2XAETE0p1dLzbgoX3WN</td>\n",
       "      <td>3V1h3kAdiVDBiwlY2i6dJz</td>\n",
       "      <td>24.0</td>\n",
       "      <td>12th planet</td>\n",
       "      <td>[151.99908, 1.0, 0.69585574, 0.4721279, 0.4757...</td>\n",
       "    </tr>\n",
       "    <tr>\n",
       "      <th>3</th>\n",
       "      <td>12th Planet</td>\n",
       "      <td>Let It Bang</td>\n",
       "      <td>https://p.scdn.co/mp3-preview/5cb107204eaa46ec...</td>\n",
       "      <td>2A7C2pIp1N0sgOi0aM6z3g</td>\n",
       "      <td>3V1h3kAdiVDBiwlY2i6dJz</td>\n",
       "      <td>20.0</td>\n",
       "      <td>12th planet</td>\n",
       "      <td>[151.99908, 1.0, 0.7084564, 0.49900118, 0.5179...</td>\n",
       "    </tr>\n",
       "    <tr>\n",
       "      <th>4</th>\n",
       "      <td>12th Planet</td>\n",
       "      <td>Let Us Prey</td>\n",
       "      <td>https://p.scdn.co/mp3-preview/15a9234eff6e1126...</td>\n",
       "      <td>5TMYoiWElQzD4UsTvtX8kx</td>\n",
       "      <td>3V1h3kAdiVDBiwlY2i6dJz</td>\n",
       "      <td>15.0</td>\n",
       "      <td>12th planet</td>\n",
       "      <td>[151.99908, 1.0, 0.7706448, 0.60469663, 0.6148...</td>\n",
       "    </tr>\n",
       "  </tbody>\n",
       "</table>\n",
       "</div>"
      ],
      "text/plain": [
       "   artist_name            song_title  \\\n",
       "0  12th Planet                Follow   \n",
       "1  12th Planet  Swamplex Terrestrial   \n",
       "2  12th Planet             Supernova   \n",
       "3  12th Planet           Let It Bang   \n",
       "4  12th Planet           Let Us Prey   \n",
       "\n",
       "                                         preview_url                track_id  \\\n",
       "0  https://p.scdn.co/mp3-preview/ef07dc598b117870...  1HJW2w61lh3XcsnfnOR9p4   \n",
       "1  https://p.scdn.co/mp3-preview/bfe1fffd48350137...  35Qf9mP6LoopjOVwgPAKoY   \n",
       "2  https://p.scdn.co/mp3-preview/a492095a74937ed7...  5Yu2XAETE0p1dLzbgoX3WN   \n",
       "3  https://p.scdn.co/mp3-preview/5cb107204eaa46ec...  2A7C2pIp1N0sgOi0aM6z3g   \n",
       "4  https://p.scdn.co/mp3-preview/15a9234eff6e1126...  5TMYoiWElQzD4UsTvtX8kx   \n",
       "\n",
       "                artist_id  track_popularity processed_artist_name  \\\n",
       "0  3V1h3kAdiVDBiwlY2i6dJz              40.0           12th planet   \n",
       "1  3V1h3kAdiVDBiwlY2i6dJz              26.0           12th planet   \n",
       "2  3V1h3kAdiVDBiwlY2i6dJz              24.0           12th planet   \n",
       "3  3V1h3kAdiVDBiwlY2i6dJz              20.0           12th planet   \n",
       "4  3V1h3kAdiVDBiwlY2i6dJz              15.0           12th planet   \n",
       "\n",
       "                                      feature_vector  \n",
       "0  [151.99908, 1.0, 0.7784917, 0.61665344, 0.6178...  \n",
       "1  [151.99908, 1.0, 0.7149835, 0.51125443, 0.5474...  \n",
       "2  [151.99908, 1.0, 0.69585574, 0.4721279, 0.4757...  \n",
       "3  [151.99908, 1.0, 0.7084564, 0.49900118, 0.5179...  \n",
       "4  [151.99908, 1.0, 0.7706448, 0.60469663, 0.6148...  "
      ]
     },
     "execution_count": 6,
     "metadata": {},
     "output_type": "execute_result"
    }
   ],
   "source": [
    "\n",
    "'''\n",
    "This dataframe is of the same size as our feature set (11180) and is merged on the column:-'track_id'. This will\n",
    "give us the 'processed_artist_name' corresponding to all the tracks and its features. The 'processed_artist_name'\n",
    "will be further used to extract artists and their songs for every pollster id in morality and personality data.\n",
    "\n",
    "'''\n",
    "features_data = pd.merge(big5_mft_tracks,feature_vector_df, on='track_id')\n",
    "features_data = features_data.drop(['Unnamed: 0'],axis=1)\n",
    "features_data.head(5) "
   ]
  },
  {
   "cell_type": "markdown",
   "id": "27836aaa",
   "metadata": {},
   "source": [
    "### Renaming features_data, personality_data and morality data so that we can perform a merge using the same column name"
   ]
  },
  {
   "cell_type": "code",
   "execution_count": 7,
   "id": "41b55a22",
   "metadata": {},
   "outputs": [],
   "source": [
    "features_data.rename(columns = {'processed_artist_name':'processed_page/artist_name'}, inplace = True)\n",
    "personality_data.rename(columns = {'processed_page_name':'processed_page/artist_name'}, inplace = True)\n",
    "morality_data.rename(columns = {'processed_page_name':'processed_page/artist_name'}, inplace = True)"
   ]
  },
  {
   "cell_type": "markdown",
   "id": "282e3af7",
   "metadata": {},
   "source": [
    "### Merging our features_data with the personality data using the column name 'processed_page/artist_name'. This will give us 81520 rows, which will have which will have  liked artists of pollster/user_ids and the top 5 songs of that artists."
   ]
  },
  {
   "cell_type": "code",
   "execution_count": 8,
   "id": "4f0be85b",
   "metadata": {},
   "outputs": [
    {
     "name": "stdout",
     "output_type": "stream",
     "text": [
      "The number of rows entries in the features_personality dataframe are:-  81520\n",
      "The number of unique users in the personality data are:- 481\n"
     ]
    },
    {
     "data": {
      "text/html": [
       "<div>\n",
       "<style scoped>\n",
       "    .dataframe tbody tr th:only-of-type {\n",
       "        vertical-align: middle;\n",
       "    }\n",
       "\n",
       "    .dataframe tbody tr th {\n",
       "        vertical-align: top;\n",
       "    }\n",
       "\n",
       "    .dataframe thead th {\n",
       "        text-align: right;\n",
       "    }\n",
       "</style>\n",
       "<table border=\"1\" class=\"dataframe\">\n",
       "  <thead>\n",
       "    <tr style=\"text-align: right;\">\n",
       "      <th></th>\n",
       "      <th>pollster_user_id</th>\n",
       "      <th>Extraversion</th>\n",
       "      <th>Agreeableness</th>\n",
       "      <th>Conscientiousness</th>\n",
       "      <th>Openness</th>\n",
       "      <th>Neurotisism</th>\n",
       "      <th>feature_vector</th>\n",
       "    </tr>\n",
       "  </thead>\n",
       "  <tbody>\n",
       "    <tr>\n",
       "      <th>0</th>\n",
       "      <td>65</td>\n",
       "      <td>9.0</td>\n",
       "      <td>3.0</td>\n",
       "      <td>10.0</td>\n",
       "      <td>7.0</td>\n",
       "      <td>6.0</td>\n",
       "      <td>[123.046875, 1.0, 0.92557836, 0.86233497, 0.84...</td>\n",
       "    </tr>\n",
       "    <tr>\n",
       "      <th>1</th>\n",
       "      <td>65</td>\n",
       "      <td>9.0</td>\n",
       "      <td>3.0</td>\n",
       "      <td>10.0</td>\n",
       "      <td>7.0</td>\n",
       "      <td>6.0</td>\n",
       "      <td>[123.046875, 1.0, 0.90434706, 0.853212, 0.8619...</td>\n",
       "    </tr>\n",
       "    <tr>\n",
       "      <th>2</th>\n",
       "      <td>65</td>\n",
       "      <td>9.0</td>\n",
       "      <td>3.0</td>\n",
       "      <td>10.0</td>\n",
       "      <td>7.0</td>\n",
       "      <td>6.0</td>\n",
       "      <td>[123.046875, 1.0, 0.6948316, 0.45649955, 0.445...</td>\n",
       "    </tr>\n",
       "    <tr>\n",
       "      <th>3</th>\n",
       "      <td>65</td>\n",
       "      <td>9.0</td>\n",
       "      <td>3.0</td>\n",
       "      <td>10.0</td>\n",
       "      <td>7.0</td>\n",
       "      <td>6.0</td>\n",
       "      <td>[123.046875, 1.0, 0.76202863, 0.5560844, 0.552...</td>\n",
       "    </tr>\n",
       "    <tr>\n",
       "      <th>4</th>\n",
       "      <td>65</td>\n",
       "      <td>9.0</td>\n",
       "      <td>3.0</td>\n",
       "      <td>10.0</td>\n",
       "      <td>7.0</td>\n",
       "      <td>6.0</td>\n",
       "      <td>[129.19922, 1.0, 0.9181301, 0.8782712, 0.87862...</td>\n",
       "    </tr>\n",
       "  </tbody>\n",
       "</table>\n",
       "</div>"
      ],
      "text/plain": [
       "   pollster_user_id  Extraversion  Agreeableness  Conscientiousness  Openness  \\\n",
       "0                65           9.0            3.0               10.0       7.0   \n",
       "1                65           9.0            3.0               10.0       7.0   \n",
       "2                65           9.0            3.0               10.0       7.0   \n",
       "3                65           9.0            3.0               10.0       7.0   \n",
       "4                65           9.0            3.0               10.0       7.0   \n",
       "\n",
       "   Neurotisism                                     feature_vector  \n",
       "0          6.0  [123.046875, 1.0, 0.92557836, 0.86233497, 0.84...  \n",
       "1          6.0  [123.046875, 1.0, 0.90434706, 0.853212, 0.8619...  \n",
       "2          6.0  [123.046875, 1.0, 0.6948316, 0.45649955, 0.445...  \n",
       "3          6.0  [123.046875, 1.0, 0.76202863, 0.5560844, 0.552...  \n",
       "4          6.0  [129.19922, 1.0, 0.9181301, 0.8782712, 0.87862...  "
      ]
     },
     "execution_count": 8,
     "metadata": {},
     "output_type": "execute_result"
    }
   ],
   "source": [
    "features_personality =  pd.merge(personality_data,features_data, on=['processed_page/artist_name'])\n",
    "features_personality = features_personality.drop(['artist_name','preview_url','track_id','artist_id','track_popularity','Unnamed: 0','Music/Artist_Page_name','category','song_title','processed_page/artist_name'],axis=1)\n",
    "print('The number of rows entries in the features_personality dataframe are:- ',len(features_personality))\n",
    "print('The number of unique users in the personality data are:-', len(features_personality['pollster_user_id'].unique()))\n",
    "features_personality.head(5)"
   ]
  },
  {
   "cell_type": "markdown",
   "id": "6136bb62",
   "metadata": {},
   "source": [
    "### Merging our features_data with the morality data using the column name 'processed_page/artist_name'. This will give us 97160 rows, which will have  liked artists of pollster/user_ids and the top 5 songs of that artists."
   ]
  },
  {
   "cell_type": "code",
   "execution_count": 9,
   "id": "3fe71b33",
   "metadata": {},
   "outputs": [
    {
     "name": "stdout",
     "output_type": "stream",
     "text": [
      "The number of rows entries in the features_morality dataframe are:-  97160\n",
      "The number of unique users in the morality data are:- 577\n"
     ]
    },
    {
     "data": {
      "text/html": [
       "<div>\n",
       "<style scoped>\n",
       "    .dataframe tbody tr th:only-of-type {\n",
       "        vertical-align: middle;\n",
       "    }\n",
       "\n",
       "    .dataframe tbody tr th {\n",
       "        vertical-align: top;\n",
       "    }\n",
       "\n",
       "    .dataframe thead th {\n",
       "        text-align: right;\n",
       "    }\n",
       "</style>\n",
       "<table border=\"1\" class=\"dataframe\">\n",
       "  <thead>\n",
       "    <tr style=\"text-align: right;\">\n",
       "      <th></th>\n",
       "      <th>pollster_user_id</th>\n",
       "      <th>Care</th>\n",
       "      <th>Fairness</th>\n",
       "      <th>Loyalty</th>\n",
       "      <th>Authority</th>\n",
       "      <th>Purity</th>\n",
       "      <th>Individualism</th>\n",
       "      <th>SocialBinding</th>\n",
       "      <th>feature_vector</th>\n",
       "    </tr>\n",
       "  </thead>\n",
       "  <tbody>\n",
       "    <tr>\n",
       "      <th>0</th>\n",
       "      <td>9</td>\n",
       "      <td>22.0</td>\n",
       "      <td>22.0</td>\n",
       "      <td>10.0</td>\n",
       "      <td>13.0</td>\n",
       "      <td>16.0</td>\n",
       "      <td>22.0</td>\n",
       "      <td>13.0</td>\n",
       "      <td>[103.359375, 1.0, 0.62312037, 0.2714267, 0.202...</td>\n",
       "    </tr>\n",
       "    <tr>\n",
       "      <th>1</th>\n",
       "      <td>9</td>\n",
       "      <td>22.0</td>\n",
       "      <td>22.0</td>\n",
       "      <td>10.0</td>\n",
       "      <td>13.0</td>\n",
       "      <td>16.0</td>\n",
       "      <td>22.0</td>\n",
       "      <td>13.0</td>\n",
       "      <td>[117.453835, 1.0, 0.7135329, 0.41768476, 0.333...</td>\n",
       "    </tr>\n",
       "    <tr>\n",
       "      <th>2</th>\n",
       "      <td>9</td>\n",
       "      <td>22.0</td>\n",
       "      <td>22.0</td>\n",
       "      <td>10.0</td>\n",
       "      <td>13.0</td>\n",
       "      <td>16.0</td>\n",
       "      <td>22.0</td>\n",
       "      <td>13.0</td>\n",
       "      <td>[123.046875, 1.0, 0.7847495, 0.5645804, 0.4997...</td>\n",
       "    </tr>\n",
       "    <tr>\n",
       "      <th>3</th>\n",
       "      <td>9</td>\n",
       "      <td>22.0</td>\n",
       "      <td>22.0</td>\n",
       "      <td>10.0</td>\n",
       "      <td>13.0</td>\n",
       "      <td>16.0</td>\n",
       "      <td>22.0</td>\n",
       "      <td>13.0</td>\n",
       "      <td>[123.046875, 1.0, 0.8232021, 0.63342595, 0.574...</td>\n",
       "    </tr>\n",
       "    <tr>\n",
       "      <th>4</th>\n",
       "      <td>9</td>\n",
       "      <td>22.0</td>\n",
       "      <td>22.0</td>\n",
       "      <td>10.0</td>\n",
       "      <td>13.0</td>\n",
       "      <td>16.0</td>\n",
       "      <td>22.0</td>\n",
       "      <td>13.0</td>\n",
       "      <td>[123.046875, 1.0, 0.75795406, 0.4903437, 0.394...</td>\n",
       "    </tr>\n",
       "  </tbody>\n",
       "</table>\n",
       "</div>"
      ],
      "text/plain": [
       "   pollster_user_id  Care  Fairness  Loyalty  Authority  Purity  \\\n",
       "0                 9  22.0      22.0     10.0       13.0    16.0   \n",
       "1                 9  22.0      22.0     10.0       13.0    16.0   \n",
       "2                 9  22.0      22.0     10.0       13.0    16.0   \n",
       "3                 9  22.0      22.0     10.0       13.0    16.0   \n",
       "4                 9  22.0      22.0     10.0       13.0    16.0   \n",
       "\n",
       "   Individualism  SocialBinding  \\\n",
       "0           22.0           13.0   \n",
       "1           22.0           13.0   \n",
       "2           22.0           13.0   \n",
       "3           22.0           13.0   \n",
       "4           22.0           13.0   \n",
       "\n",
       "                                      feature_vector  \n",
       "0  [103.359375, 1.0, 0.62312037, 0.2714267, 0.202...  \n",
       "1  [117.453835, 1.0, 0.7135329, 0.41768476, 0.333...  \n",
       "2  [123.046875, 1.0, 0.7847495, 0.5645804, 0.4997...  \n",
       "3  [123.046875, 1.0, 0.8232021, 0.63342595, 0.574...  \n",
       "4  [123.046875, 1.0, 0.75795406, 0.4903437, 0.394...  "
      ]
     },
     "execution_count": 9,
     "metadata": {},
     "output_type": "execute_result"
    }
   ],
   "source": [
    "features_morality = pd.merge(morality_data,features_data, on=['processed_page/artist_name'])\n",
    "features_morality = features_morality.drop(['artist_name','preview_url','track_id','artist_id','track_popularity','Unnamed: 0','Music/Artist_Page_name','category','song_title','processed_page/artist_name'],axis=1)\n",
    "print('The number of rows entries in the features_morality dataframe are:- ',len(features_morality))\n",
    "print('The number of unique users in the morality data are:-', len(features_morality['pollster_user_id'].unique()))\n",
    "features_morality.head(5)"
   ]
  },
  {
   "cell_type": "markdown",
   "id": "0e7ed13d",
   "metadata": {},
   "source": [
    "## Now that we have data for every user, we will take the average/mean of all the songs and all the artists so that we have exactly one feature vector (length 229) which will represent all the 7 featrues for each user.\n",
    "i.e :- <i>[tempo, mean_tempogram,std_tempogram,mean_chromagram,std_chromagram,mean_tonnetz,std_tonnetz]<i>"
   ]
  },
  {
   "cell_type": "markdown",
   "id": "4de738bc",
   "metadata": {},
   "source": [
    "## This means we will now have the personality features and labels for 481 unique users while morality features and labels for 577 unique users "
   ]
  },
  {
   "cell_type": "code",
   "execution_count": 10,
   "id": "169186d5",
   "metadata": {},
   "outputs": [
    {
     "name": "stdout",
     "output_type": "stream",
     "text": [
      "Computed average of features and labels (personality) for each pollster_user_id\n"
     ]
    },
    {
     "name": "stderr",
     "output_type": "stream",
     "text": [
      "/var/folders/2b/lkvmx_wd737c4czk7qj097mc0000gn/T/ipykernel_45240/225180121.py:2: FutureWarning: Indexing with multiple keys (implicitly converted to a tuple of keys) will be deprecated, use a list instead.\n",
      "  avg_personality_labels = features_personality.groupby(by='pollster_user_id')['Extraversion', 'Agreeableness',\n"
     ]
    }
   ],
   "source": [
    "avg_personality_features = features_personality.groupby(by='pollster_user_id')['feature_vector'].mean()\n",
    "avg_personality_labels = features_personality.groupby(by='pollster_user_id')['Extraversion', 'Agreeableness',\n",
    "       'Conscientiousness', 'Openness', 'Neurotisism'].mean()\n",
    "\n",
    "avg_personality_features = avg_personality_features.reset_index()\n",
    "avg_personality_labels = avg_personality_labels.reset_index()\n",
    "print('Computed average of features and labels (personality) for each pollster_user_id')"
   ]
  },
  {
   "cell_type": "code",
   "execution_count": 11,
   "id": "537c766a",
   "metadata": {},
   "outputs": [
    {
     "name": "stdout",
     "output_type": "stream",
     "text": [
      "Computed average of features and labels (morality) for each pollster_user_id\n"
     ]
    },
    {
     "name": "stderr",
     "output_type": "stream",
     "text": [
      "/var/folders/2b/lkvmx_wd737c4czk7qj097mc0000gn/T/ipykernel_45240/346536493.py:2: FutureWarning: Indexing with multiple keys (implicitly converted to a tuple of keys) will be deprecated, use a list instead.\n",
      "  avg_morality_labels = features_morality.groupby(by='pollster_user_id')['Care', 'Fairness', 'Loyalty', 'Authority',\n"
     ]
    }
   ],
   "source": [
    "avg_morality_features = features_morality.groupby(by='pollster_user_id')['feature_vector'].mean()\n",
    "avg_morality_labels = features_morality.groupby(by='pollster_user_id')['Care', 'Fairness', 'Loyalty', 'Authority',\n",
    "       'Purity', 'Individualism', 'SocialBinding'].mean()\n",
    "\n",
    "avg_morality_features = avg_morality_features.reset_index()\n",
    "avg_morality_labels = avg_morality_labels.reset_index()\n",
    "# avg_personality_features = avg_personality_features.drop(['pollster_user_id'],index=1)\n",
    "print('Computed average of features and labels (morality) for each pollster_user_id')"
   ]
  },
  {
   "cell_type": "markdown",
   "id": "c42c4936",
   "metadata": {},
   "source": [
    "### Creating the avg_personality_features and avg_morality_features arrays further getting the input data to our models"
   ]
  },
  {
   "cell_type": "code",
   "execution_count": 12,
   "id": "802dda6b",
   "metadata": {},
   "outputs": [],
   "source": [
    "avg_personality_features = avg_personality_features['feature_vector']\n",
    "avg_morality_features = avg_morality_features['feature_vector']"
   ]
  },
  {
   "cell_type": "markdown",
   "id": "1da81d3a",
   "metadata": {},
   "source": [
    "### Copying the avg_personality and avg_morality featurs into a new array to change the dtype of the array from 'object' to 'float32' and converting both the lists to numpy arrays."
   ]
  },
  {
   "cell_type": "code",
   "execution_count": 13,
   "id": "ecd3739b",
   "metadata": {},
   "outputs": [],
   "source": [
    "avg_personality_features_arr = []\n",
    "avg_morality_features_arr = []"
   ]
  },
  {
   "cell_type": "code",
   "execution_count": 14,
   "id": "1fa28a0e",
   "metadata": {},
   "outputs": [],
   "source": [
    "for i in range(len(avg_personality_features)):\n",
    "    avg_personality_features_arr.append(avg_personality_features[i])\n",
    "\n",
    "for j in range(len(avg_morality_features)):\n",
    "    avg_morality_features_arr.append(avg_morality_features[j])  \n",
    "    \n",
    "avg_personality_features_arr, avg_morality_features_arr = np.array(avg_personality_features_arr), np.array(avg_morality_features_arr)"
   ]
  },
  {
   "cell_type": "markdown",
   "id": "bc0bc78f",
   "metadata": {},
   "source": [
    "## Create inputs and outputs for our prediction models"
   ]
  },
  {
   "cell_type": "code",
   "execution_count": 15,
   "id": "28306c95",
   "metadata": {},
   "outputs": [],
   "source": [
    "# Personality\n",
    "X_personality = avg_personality_features_arr\n",
    "\n",
    "\n",
    "y_Extraversion = avg_personality_labels['Extraversion'].astype('float32')\n",
    "y_Agreeableness = avg_personality_labels['Agreeableness'].astype('float32')\n",
    "y_Conscientiousness = avg_personality_labels['Conscientiousness'].astype('float32')\n",
    "y_Openness = avg_personality_labels['Openness'].astype('float32')\n",
    "y_Neurotisism = avg_personality_labels['Neurotisism'].astype('float32')\n",
    "\n",
    "#  Morality\n",
    "X_morality = avg_morality_features_arr\n",
    "\n",
    "y_Care = avg_morality_labels['Care'].astype('float32')\n",
    "y_Fairness = avg_morality_labels['Fairness'].astype('float32')\n",
    "y_Loyalty = avg_morality_labels['Loyalty'].astype('float32')\n",
    "y_Authority = avg_morality_labels['Authority'].astype('float32')\n",
    "y_Purity = avg_morality_labels['Purity'].astype('float32')\n",
    "y_Individualism = avg_morality_labels['Individualism'].astype('float32')\n",
    "y_SocialBinding = avg_morality_labels['SocialBinding'].astype('float32')"
   ]
  },
  {
   "cell_type": "code",
   "execution_count": 16,
   "id": "bb722b49",
   "metadata": {},
   "outputs": [
    {
     "data": {
      "text/plain": [
       "((481, 229), (481,))"
      ]
     },
     "execution_count": 16,
     "metadata": {},
     "output_type": "execute_result"
    }
   ],
   "source": [
    "X_personality.shape, y_Extraversion.shape"
   ]
  },
  {
   "cell_type": "markdown",
   "id": "55254db8",
   "metadata": {},
   "source": [
    "# Predicting Extraversion\n"
   ]
  },
  {
   "cell_type": "markdown",
   "id": "15bca84c",
   "metadata": {},
   "source": [
    "## Random Forest Extraversion"
   ]
  },
  {
   "cell_type": "code",
   "execution_count": 17,
   "id": "36b60200",
   "metadata": {},
   "outputs": [],
   "source": [
    "X_train_Extraversion, X_test_Extraversion, y_train_Extraversion, y_test_Extraversion = train_test_split(X_personality, np.array(y_Extraversion), test_size=0.2, random_state = 42)"
   ]
  },
  {
   "cell_type": "code",
   "execution_count": 18,
   "id": "ca34ef4d",
   "metadata": {},
   "outputs": [
    {
     "name": "stdout",
     "output_type": "stream",
     "text": [
      "The coefficient of determination of the prediction R^2 is:-  0.8489305574517626\n",
      "Mean Absolute Error: 1.2267010309278352\n",
      "Mean Squared Error: 2.457003092783505\n",
      "Root Mean Squared Error: 1.5674830438583713\n"
     ]
    }
   ],
   "source": [
    "rf_Extraversion = RandomForestRegressor(n_estimators=100)\n",
    "rf_Extraversion.fit(X_train_Extraversion, y_train_Extraversion)\n",
    "y_rf_pred_Extraversion = rf_Extraversion.predict(X_test_Extraversion)\n",
    "rf_Extraversion_score = rf_Extraversion.score(X_train_Extraversion, y_train_Extraversion)\n",
    "\n",
    "print('The coefficient of determination of the prediction R^2 is:- ', rf_Extraversion_score)\n",
    "print('Mean Absolute Error:', metrics.mean_absolute_error(y_test_Extraversion, y_rf_pred_Extraversion))\n",
    "print('Mean Squared Error:', metrics.mean_squared_error(y_test_Extraversion, y_rf_pred_Extraversion))\n",
    "print('Root Mean Squared Error:', np.sqrt(metrics.mean_squared_error(y_test_Extraversion, y_rf_pred_Extraversion)))"
   ]
  },
  {
   "cell_type": "markdown",
   "id": "b2a84dfa",
   "metadata": {},
   "source": [
    "## Linear Regressor Extraversion"
   ]
  },
  {
   "cell_type": "code",
   "execution_count": 19,
   "id": "48fabb8b",
   "metadata": {},
   "outputs": [
    {
     "name": "stdout",
     "output_type": "stream",
     "text": [
      "The coefficient of determination of the prediction R^2 is:-  0.5143668843717586\n",
      "Mean Absolute Error: 2.2156188\n",
      "Mean Squared Error: 8.135601\n",
      "Root Mean Squared Error: 2.8522975\n"
     ]
    }
   ],
   "source": [
    "lr_Extraversion = LinearRegression()\n",
    "lr_Extraversion.fit(X_train_Extraversion, y_train_Extraversion)\n",
    "y_lr_pred_Extraversion = lr_Extraversion.predict(X_test_Extraversion)\n",
    "lr_Extraversion_score = lr_Extraversion.score(X_train_Extraversion, y_train_Extraversion)\n",
    "\n",
    "print('The coefficient of determination of the prediction R^2 is:- ', lr_Extraversion_score)\n",
    "print('Mean Absolute Error:', metrics.mean_absolute_error(y_test_Extraversion, y_lr_pred_Extraversion))\n",
    "print('Mean Squared Error:', metrics.mean_squared_error(y_test_Extraversion, y_lr_pred_Extraversion))\n",
    "print('Root Mean Squared Error:', np.sqrt(metrics.mean_squared_error(y_test_Extraversion, y_lr_pred_Extraversion)))"
   ]
  },
  {
   "cell_type": "markdown",
   "id": "d2af57cd",
   "metadata": {},
   "source": [
    "## XGBoost Regressor Extraversion"
   ]
  },
  {
   "cell_type": "code",
   "execution_count": 24,
   "id": "e5f5f9d1",
   "metadata": {},
   "outputs": [
    {
     "name": "stdout",
     "output_type": "stream",
     "text": [
      "Mean MAE: 1.407 (0.187)\n"
     ]
    }
   ],
   "source": [
    "xgb_Extraversion = XGBRegressor()\n",
    "cv_Extraversion = RepeatedKFold(n_splits=10, n_repeats=3, random_state=1)\n",
    "# evaluate model\n",
    "scores_Extraversion = cross_val_score(xgb_Extraversion, X_train_Extraversion, y_train_Extraversion, scoring='neg_mean_absolute_error', cv=cv_Extraversion, n_jobs=-1)\n",
    "# force scores to be positive\n",
    "scores_Extraversion = np.absolute(scores_Extraversion)\n",
    "print('Mean MAE: %.3f (%.3f)' % (scores_Extraversion.mean(), scores_Extraversion.std()) )"
   ]
  },
  {
   "cell_type": "markdown",
   "id": "f31a9818-c46b-4b82-a20c-3fac9ea6e342",
   "metadata": {},
   "source": [
    "# Support Vector Regressor Extraversion"
   ]
  },
  {
   "cell_type": "code",
   "execution_count": null,
   "id": "f21d3ea9",
   "metadata": {
    "scrolled": true
   },
   "outputs": [],
   "source": [
    "from sklearn.svm import SVR\n",
    "from sklearn.pipeline import make_pipeline\n",
    "from sklearn.preprocessing import StandardScaler\n",
    "svr_Extraversion = make_pipeline(StandardScaler(), SVR(C=1.0, epsilon=0.2))\n",
    "svr_Extraversion.fit(X_train_Extraversion, y_train_Extraversion)\n",
    "y_svr_pred_Extraversion = svr_Extraversion.predict(X_test_Extraversion)\n",
    "svr_Extraversion_score = lr_Extraversion.score(X_train_Extraversion, y_train_Extraversion)\n",
    "\n",
    "\n",
    "\n",
    "print('The coefficient of determination of the prediction R^2 is:- ', svr_Extraversion_score)\n",
    "print('Mean Absolute Error:', metrics.mean_absolute_error(y_test_Extraversion, y_lr_pred_Extraversion))\n",
    "print('Mean Squared Error:', metrics.mean_squared_error(y_test_Extraversion, y_lr_pred_Extraversion))\n",
    "print('Root Mean Squared Error:', np.sqrt(metrics.mean_squared_error(y_test_Extraversion, y_lr_pred_Extraversion)))\n"
   ]
  },
  {
   "cell_type": "code",
   "execution_count": null,
   "id": "088b6b85",
   "metadata": {},
   "outputs": [],
   "source": [
    "# vanilla linear regressor"
   ]
  },
  {
   "cell_type": "code",
   "execution_count": null,
   "id": "44c754f9",
   "metadata": {},
   "outputs": [],
   "source": [
    "# results = evaluate_model(X, y)"
   ]
  },
  {
   "cell_type": "code",
   "execution_count": 27,
   "id": "8c91905b",
   "metadata": {},
   "outputs": [],
   "source": [
    "# \treturn results"
   ]
  },
  {
   "cell_type": "code",
   "execution_count": 26,
   "id": "894c3c16",
   "metadata": {},
   "outputs": [],
   "source": []
  }
 ],
 "metadata": {
  "kernelspec": {
   "display_name": "Python 3 (ipykernel)",
   "language": "python",
   "name": "python3"
  },
  "language_info": {
   "codemirror_mode": {
    "name": "ipython",
    "version": 3
   },
   "file_extension": ".py",
   "mimetype": "text/x-python",
   "name": "python",
   "nbconvert_exporter": "python",
   "pygments_lexer": "ipython3",
   "version": "3.10.5"
  }
 },
 "nbformat": 4,
 "nbformat_minor": 5
}
